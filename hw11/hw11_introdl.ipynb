{
  "nbformat": 4,
  "nbformat_minor": 0,
  "metadata": {
    "colab": {
      "name": "HW11_Nefedov.ipynb",
      "provenance": [],
      "collapsed_sections": [
        "dEFaHiQz9QsY",
        "dsXZrGmS-KYq"
      ],
      "toc_visible": true
    },
    "kernelspec": {
      "name": "python3",
      "display_name": "Python 3"
    },
    "language_info": {
      "name": "python"
    },
    "accelerator": "GPU"
  },
  "cells": [
    {
      "cell_type": "markdown",
      "metadata": {
        "id": "sB1tSBKe0rFz"
      },
      "source": [
        "# Задание 1\n",
        "1) На одной из задач сравните, что лучше: а) конкатенировать эмбединги в один большой эмбединг, б) усреднять эмбединги, в) складывать эмбединги. \n",
        "Зафиксируйте разбиение на train_test  через random_seed, чтобы обучаться и оцениваться на одних и тех же данных. \n",
        "Параметры нейронок не нужно делать одинаковыми. Просто попробуйте добиться максимума от каждого из подходов. "
      ]
    },
    {
      "cell_type": "markdown",
      "metadata": {
        "id": "3rpAiBFj0xZ-"
      },
      "source": [
        "Возьмем вторую задачу - **классификацию**"
      ]
    },
    {
      "cell_type": "code",
      "metadata": {
        "id": "Eq6jChmQ3eEg"
      },
      "source": [
        "from collections import Counter\n",
        "import pandas as pd\n",
        "import numpy as np\n",
        "from string import punctuation\n",
        "\n",
        "import gensim\n",
        "from sklearn.metrics import classification_report\n",
        "from sklearn.model_selection import train_test_split\n",
        "import torch\n",
        "import torch.nn as nn\n",
        "import torch.nn.functional as F\n",
        "import torch.optim as optim\n",
        "\n",
        "import matplotlib.pyplot as plt\n",
        "%matplotlib inline"
      ],
      "execution_count": 21,
      "outputs": []
    },
    {
      "cell_type": "code",
      "metadata": {
        "colab": {
          "base_uri": "https://localhost:8080/"
        },
        "id": "JbjzYOvC2IQZ",
        "outputId": "0dbb7c7a-9213-429c-e582-3a0e7df6cc64"
      },
      "source": [
        "filepath = \"data/quora.csv\"\n",
        "\n",
        "MAX_LEN = 100\n",
        "RANDOM_SEED = 23\n",
        "device = torch.device('cuda' if torch.cuda.is_available() else 'cpu')\n",
        "device"
      ],
      "execution_count": 6,
      "outputs": [
        {
          "output_type": "execute_result",
          "data": {
            "text/plain": [
              "device(type='cuda')"
            ]
          },
          "metadata": {
            "tags": []
          },
          "execution_count": 6
        }
      ]
    },
    {
      "cell_type": "code",
      "metadata": {
        "colab": {
          "base_uri": "https://localhost:8080/",
          "height": 221
        },
        "id": "O1blCXqg3iME",
        "outputId": "d1d6a842-5dc0-40d0-c451-bcba24d8ef63"
      },
      "source": [
        "quora = pd.read_csv(filepath)\n",
        "print(quora.shape)\n",
        "quora.head()"
      ],
      "execution_count": 7,
      "outputs": [
        {
          "output_type": "stream",
          "text": [
            "(1306122, 3)\n"
          ],
          "name": "stdout"
        },
        {
          "output_type": "execute_result",
          "data": {
            "text/html": [
              "<div>\n",
              "<style scoped>\n",
              "    .dataframe tbody tr th:only-of-type {\n",
              "        vertical-align: middle;\n",
              "    }\n",
              "\n",
              "    .dataframe tbody tr th {\n",
              "        vertical-align: top;\n",
              "    }\n",
              "\n",
              "    .dataframe thead th {\n",
              "        text-align: right;\n",
              "    }\n",
              "</style>\n",
              "<table border=\"1\" class=\"dataframe\">\n",
              "  <thead>\n",
              "    <tr style=\"text-align: right;\">\n",
              "      <th></th>\n",
              "      <th>qid</th>\n",
              "      <th>question_text</th>\n",
              "      <th>target</th>\n",
              "    </tr>\n",
              "  </thead>\n",
              "  <tbody>\n",
              "    <tr>\n",
              "      <th>0</th>\n",
              "      <td>00002165364db923c7e6</td>\n",
              "      <td>How did Quebec nationalists see their province...</td>\n",
              "      <td>0</td>\n",
              "    </tr>\n",
              "    <tr>\n",
              "      <th>1</th>\n",
              "      <td>000032939017120e6e44</td>\n",
              "      <td>Do you have an adopted dog, how would you enco...</td>\n",
              "      <td>0</td>\n",
              "    </tr>\n",
              "    <tr>\n",
              "      <th>2</th>\n",
              "      <td>0000412ca6e4628ce2cf</td>\n",
              "      <td>Why does velocity affect time? Does velocity a...</td>\n",
              "      <td>0</td>\n",
              "    </tr>\n",
              "    <tr>\n",
              "      <th>3</th>\n",
              "      <td>000042bf85aa498cd78e</td>\n",
              "      <td>How did Otto von Guericke used the Magdeburg h...</td>\n",
              "      <td>0</td>\n",
              "    </tr>\n",
              "    <tr>\n",
              "      <th>4</th>\n",
              "      <td>0000455dfa3e01eae3af</td>\n",
              "      <td>Can I convert montra helicon D to a mountain b...</td>\n",
              "      <td>0</td>\n",
              "    </tr>\n",
              "  </tbody>\n",
              "</table>\n",
              "</div>"
            ],
            "text/plain": [
              "                    qid  ... target\n",
              "0  00002165364db923c7e6  ...      0\n",
              "1  000032939017120e6e44  ...      0\n",
              "2  0000412ca6e4628ce2cf  ...      0\n",
              "3  000042bf85aa498cd78e  ...      0\n",
              "4  0000455dfa3e01eae3af  ...      0\n",
              "\n",
              "[5 rows x 3 columns]"
            ]
          },
          "metadata": {
            "tags": []
          },
          "execution_count": 7
        }
      ]
    },
    {
      "cell_type": "code",
      "metadata": {
        "colab": {
          "base_uri": "https://localhost:8080/"
        },
        "id": "gl39lAbe8A5m",
        "outputId": "227eab4c-3b4d-4773-a536-fc8909352609"
      },
      "source": [
        "quora.target.value_counts(normalize=True)"
      ],
      "execution_count": 9,
      "outputs": [
        {
          "output_type": "execute_result",
          "data": {
            "text/plain": [
              "0    0.93813\n",
              "1    0.06187\n",
              "Name: target, dtype: float64"
            ]
          },
          "metadata": {
            "tags": []
          },
          "execution_count": 9
        }
      ]
    },
    {
      "cell_type": "markdown",
      "metadata": {
        "id": "6sn7BXVt-uaz"
      },
      "source": [
        "Есть дизбаланс классов, поэтому итоговую метрику для сравнения буду брать F1-score"
      ]
    },
    {
      "cell_type": "code",
      "metadata": {
        "id": "ktKUC8Z83xPg"
      },
      "source": [
        "def preprocess(text):\n",
        "    tokens = text.lower().split()\n",
        "    tokens = [token.strip(punctuation) for token in tokens]\n",
        "    return tokens"
      ],
      "execution_count": 10,
      "outputs": []
    },
    {
      "cell_type": "code",
      "metadata": {
        "colab": {
          "base_uri": "https://localhost:8080/"
        },
        "id": "E0UuSl7A3pwZ",
        "outputId": "e695b023-ed2f-4a89-a3c8-bb6a215690ab"
      },
      "source": [
        "# Словарь\n",
        "vocab = Counter()\n",
        "for text in quora.question_text:\n",
        "    vocab.update(preprocess(text))\n",
        "\n",
        "# отфильтрованный словарь\n",
        "filtered_vocab = set()\n",
        "for word in vocab:\n",
        "    if vocab[word] > 50:\n",
        "        filtered_vocab.add(word)\n",
        "\n",
        "print(f\"Initial Vocab: {len(vocab)}\\nFiltered Vocab: {len(filtered_vocab)}\")\n",
        "\n",
        "# индексируем слова\n",
        "word2id = {'PAD':0}\n",
        "for word in filtered_vocab:\n",
        "    word2id[word] = len(word2id)\n",
        "id2word = {i:word for word, i in word2id.items()}"
      ],
      "execution_count": 11,
      "outputs": [
        {
          "output_type": "stream",
          "text": [
            "Initial Vocab: 273056\n",
            "Filtered Vocab: 14083\n"
          ],
          "name": "stdout"
        }
      ]
    },
    {
      "cell_type": "code",
      "metadata": {
        "id": "0LTFkjhV4zlU"
      },
      "source": [
        "class Dataset(torch.utils.data.Dataset):\n",
        "\n",
        "    def __init__(self, dataset, word2id, MAX_LEN, text_field, target_field):\n",
        "        \n",
        "        self.dataset = dataset[text_field].values\n",
        "        \n",
        "        self.word2id = word2id\n",
        "        self.MAX_LEN = MAX_LEN\n",
        "        self.length = dataset.shape[0]\n",
        "        self.target = torch.Tensor(dataset[target_field].values)\n",
        "\n",
        "    def __len__(self):\n",
        "        return self.length\n",
        "\n",
        "    def __getitem__(self, index):\n",
        "\n",
        "        tokens = self.preprocess(self.dataset[index])\n",
        "        ids = [self.word2id[token] for token in tokens if token in self.word2id][:MAX_LEN]\n",
        "        ids = torch.nn.functional.pad(torch.LongTensor(ids), \n",
        "                                (0, self.MAX_LEN-len(ids)), \n",
        "                                mode='constant',\n",
        "                                value=0)\n",
        "        y = self.target[index]\n",
        "        return ids, y\n",
        "    \n",
        "    def preprocess(self, text):\n",
        "        tokens = text.lower().split()\n",
        "        tokens = [token.strip(punctuation) for token in tokens]\n",
        "        tokens = [token for token in tokens if token]\n",
        "        return tokens"
      ],
      "execution_count": 12,
      "outputs": []
    },
    {
      "cell_type": "code",
      "metadata": {
        "colab": {
          "base_uri": "https://localhost:8080/"
        },
        "id": "LjfBbhT_4bLk",
        "outputId": "11221964-763a-40ff-879c-8f88592405dd"
      },
      "source": [
        "train_dataset, valid_dataset = train_test_split(quora, test_size=0.05, random_state=RANDOM_SEED, stratify=quora.target)\n",
        "\n",
        "training_set = Dataset(train_dataset, word2id, MAX_LEN, 'question_text', 'target')\n",
        "training_generator = torch.utils.data.DataLoader(training_set, batch_size=256)\n",
        "\n",
        "valid_set = Dataset(valid_dataset, word2id, MAX_LEN, 'question_text', 'target')\n",
        "valid_generator = torch.utils.data.DataLoader(valid_set, batch_size=256)\n",
        "print(len(train_dataset), len(valid_dataset))"
      ],
      "execution_count": 14,
      "outputs": [
        {
          "output_type": "stream",
          "text": [
            "1240815 65307\n"
          ],
          "name": "stdout"
        }
      ]
    },
    {
      "cell_type": "code",
      "metadata": {
        "id": "Co47CCT57L2w"
      },
      "source": [
        "def binary_accuracy(preds, y):\n",
        "    rounded_preds = torch.round(preds)\n",
        "    correct = (rounded_preds == y).float() \n",
        "    acc = correct.sum() / len(correct)\n",
        "    return acc\n",
        "\n",
        "\n",
        "def train(model, iterator, optimizer, criterion, print_every=1000):\n",
        "    \n",
        "    epoch_loss = 0\n",
        "    epoch_acc = 0\n",
        "    \n",
        "    model.train()  \n",
        "\n",
        "    for i, (texts, ys) in enumerate(iterator):\n",
        "        \n",
        "        optimizer.zero_grad()   \n",
        "        predictions = model(texts.to(device)).squeeze()  \n",
        "        loss = criterion(predictions.float(), ys.to(device).float())        \n",
        "        acc = binary_accuracy(predictions.float(), ys.to(device).float())\n",
        "        loss.backward()     \n",
        "        \n",
        "        optimizer.step()      \n",
        "        epoch_loss += loss.item()  \n",
        "        epoch_acc += acc.item()\n",
        "        \n",
        "        if not (i+1) % print_every:\n",
        "            print(f'Loss: {epoch_loss/i}; Accuracy: {epoch_acc/i}')\n",
        "        \n",
        "    return epoch_acc / len(iterator)\n",
        "\n",
        "\n",
        "def evaluate(model, iterator, criterion):\n",
        "    \n",
        "    epoch_loss = 0\n",
        "    epoch_acc = 0\n",
        "    \n",
        "    model.eval()  \n",
        "    with torch.no_grad():\n",
        "        for texts, ys in iterator:   \n",
        "\n",
        "            predictions = model(texts.to(device)).squeeze()  \n",
        "            loss = criterion(predictions.float(), ys.to(device).float())        \n",
        "            acc = binary_accuracy(predictions.float(), ys.to(device).float())\n",
        "\n",
        "            epoch_loss += loss.item()  \n",
        "            epoch_acc += acc.item()\n",
        "            \n",
        "    return epoch_acc / len(iterator)"
      ],
      "execution_count": 15,
      "outputs": []
    },
    {
      "cell_type": "markdown",
      "metadata": {
        "id": "8fFySzW38OuG"
      },
      "source": [
        "## а) конкатенировать эмбединги в один большой эмбединг"
      ]
    },
    {
      "cell_type": "markdown",
      "metadata": {
        "id": "aEceGtbu8VAo"
      },
      "source": [
        "Здесь и далее я сохраняю вывод наилучшей модели, после подбора гиперпараметров. Их тут немного, буду подбирать embedding_dim, порог для принадлежности к положительному классу и кол-во эпох обучения. "
      ]
    },
    {
      "cell_type": "code",
      "metadata": {
        "id": "Gf9iZcE068Mz"
      },
      "source": [
        "class Clf(nn.Module):\n",
        "    \n",
        "    def __init__(self, vocab_size, embedding_dim, output_dim):\n",
        "        \n",
        "        super().__init__()          \n",
        "        self.embedding = nn.Embedding(vocab_size, embedding_dim)\n",
        "        self.flatten = nn.Flatten() # вместо усреднения склеим все в 1 вектор\n",
        "        self.fc = nn.Linear(embedding_dim*MAX_LEN, output_dim) # размер склееного вектора - размер эмбединга на MAX_LEN\n",
        "        self.act = nn.Sigmoid() \n",
        "        \n",
        "    def forward(self, text):\n",
        "        \n",
        "        embedded = self.embedding(text)   \n",
        "        hidden = self.flatten(embedded)\n",
        "        dense_outputs=self.fc(hidden)\n",
        "        outputs=self.act(dense_outputs)\n",
        "        \n",
        "        return outputs"
      ],
      "execution_count": 105,
      "outputs": []
    },
    {
      "cell_type": "code",
      "metadata": {
        "id": "Diygvh7j7VT8"
      },
      "source": [
        "model = Clf(len(word2id), embedding_dim=30, output_dim=1)\n",
        "\n",
        "optimizer = optim.Adam(model.parameters())\n",
        "criterion = nn.BCELoss() \n",
        "\n",
        "model = model.to(device)\n",
        "criterion = criterion.to(device)"
      ],
      "execution_count": 106,
      "outputs": []
    },
    {
      "cell_type": "code",
      "metadata": {
        "colab": {
          "base_uri": "https://localhost:8080/"
        },
        "id": "Oxuyic-R7s1c",
        "outputId": "22734c88-8f0a-4e90-bf48-05f16d21d070"
      },
      "source": [
        "accs = []\n",
        "accs_eval = []\n",
        "for i in range(5):\n",
        "    print(i)\n",
        "    accs.append(train(model, training_generator, optimizer, criterion))\n",
        "    accs_eval.append(evaluate(model, valid_generator, criterion))"
      ],
      "execution_count": 107,
      "outputs": [
        {
          "output_type": "stream",
          "text": [
            "0\n",
            "Loss: 0.18275465654419945; Accuracy: 0.9404795420420421\n",
            "Loss: 0.16681675766485224; Accuracy: 0.9432587387443722\n",
            "Loss: 0.15767654732848532; Accuracy: 0.9450129209736579\n",
            "Loss: 0.15144529885878621; Accuracy: 0.9463684280445112\n",
            "1\n",
            "Loss: 0.1266122884802274; Accuracy: 0.952784816066066\n",
            "Loss: 0.12525039406613506; Accuracy: 0.9528436093046523\n",
            "Loss: 0.12436328915287233; Accuracy: 0.9529009669889963\n",
            "Loss: 0.12348768593769993; Accuracy: 0.9531240231932984\n",
            "2\n",
            "Loss: 0.11962578962515066; Accuracy: 0.9550448886386387\n",
            "Loss: 0.11897834715409658; Accuracy: 0.9548446098049025\n",
            "Loss: 0.11864888298139846; Accuracy: 0.9547635670223408\n",
            "Loss: 0.1181457963545983; Accuracy: 0.954867623155789\n",
            "3\n",
            "Loss: 0.11617141557079894; Accuracy: 0.9562492179679679\n",
            "Loss: 0.11591942500455371; Accuracy: 0.9559897136068034\n",
            "Loss: 0.11587926847024853; Accuracy: 0.9557534803267755\n",
            "Loss: 0.11543331733641847; Accuracy: 0.9558385690172543\n",
            "4\n",
            "Loss: 0.1141076395633044; Accuracy: 0.957152464964965\n",
            "Loss: 0.11398032586975; Accuracy: 0.9567420428964483\n",
            "Loss: 0.1140097136205238; Accuracy: 0.9564008315271757\n",
            "Loss: 0.11358527924234821; Accuracy: 0.9564637253063266\n"
          ],
          "name": "stdout"
        }
      ]
    },
    {
      "cell_type": "code",
      "metadata": {
        "colab": {
          "base_uri": "https://localhost:8080/",
          "height": 295
        },
        "id": "2rAVmN1k70Fc",
        "outputId": "1a8be33c-a2d4-4e61-c41a-e625f0c924b1"
      },
      "source": [
        "plt.plot(np.sqrt(accs))\n",
        "plt.plot(np.sqrt(accs_eval))\n",
        "plt.title('model Accuracy')\n",
        "plt.ylabel('Acc')\n",
        "plt.xlabel('epoch')\n",
        "plt.legend(['train', 'val'], loc='upper left')\n",
        "plt.show()"
      ],
      "execution_count": 108,
      "outputs": [
        {
          "output_type": "display_data",
          "data": {
            "image/png": "[encoded data removed]",
            "text/plain": [
              "<Figure size 432x288 with 1 Axes>"
            ]
          },
          "metadata": {
            "tags": [],
            "needs_background": "light"
          }
        }
      ]
    },
    {
      "cell_type": "code",
      "metadata": {
        "id": "z1moYhc672Y-"
      },
      "source": [
        "preds = []\n",
        "targets = []\n",
        "for texts, ys in valid_generator:\n",
        "    preds += model(texts.to(device)).squeeze().detach().to('cpu').numpy().tolist()\n",
        "    targets += ys.numpy().tolist()"
      ],
      "execution_count": 109,
      "outputs": []
    },
    {
      "cell_type": "code",
      "metadata": {
        "colab": {
          "base_uri": "https://localhost:8080/"
        },
        "id": "zEfQKEGk78UK",
        "outputId": "2634c272-8f09-4036-f1d9-9565f91db287"
      },
      "source": [
        "print(classification_report(targets, (np.array(preds) > 0.3).astype(int)))"
      ],
      "execution_count": 111,
      "outputs": [
        {
          "output_type": "stream",
          "text": [
            "              precision    recall  f1-score   support\n",
            "\n",
            "         0.0       0.97      0.97      0.97     61266\n",
            "         1.0       0.60      0.62      0.61      4041\n",
            "\n",
            "    accuracy                           0.95     65307\n",
            "   macro avg       0.79      0.80      0.79     65307\n",
            "weighted avg       0.95      0.95      0.95     65307\n",
            "\n"
          ],
          "name": "stdout"
        }
      ]
    },
    {
      "cell_type": "markdown",
      "metadata": {
        "id": "dEFaHiQz9QsY"
      },
      "source": [
        "## б) усреднять эмбединги,"
      ]
    },
    {
      "cell_type": "code",
      "metadata": {
        "id": "66hN-Ala9XNK"
      },
      "source": [
        "class Clf(nn.Module):\n",
        "    \n",
        "    def __init__(self, vocab_size, embedding_dim, output_dim):\n",
        "        \n",
        "        super().__init__()          \n",
        "        self.embedding = nn.Embedding(vocab_size, embedding_dim)\n",
        "        self.fc = nn.Linear(embedding_dim, output_dim) # размер склееного вектора - размер эмбединга на MAX_LEN\n",
        "        self.act = nn.Sigmoid() \n",
        "        \n",
        "    def forward(self, text):\n",
        "        \n",
        "        embedded = self.embedding(text)   \n",
        "        embedded_mean = torch.mean(embedded, dim=1)\n",
        "        dense_outputs = self.fc(embedded_mean)\n",
        "        outputs=self.act(dense_outputs)\n",
        "        \n",
        "        return outputs"
      ],
      "execution_count": 112,
      "outputs": []
    },
    {
      "cell_type": "code",
      "metadata": {
        "id": "nmfrBmAh9vDG"
      },
      "source": [
        "model = Clf(len(word2id), embedding_dim=60, output_dim=1)\n",
        "\n",
        "optimizer = optim.Adam(model.parameters(), lr=1e-4)\n",
        "criterion = nn.BCELoss() \n",
        "\n",
        "model = model.to(device)\n",
        "criterion = criterion.to(device)"
      ],
      "execution_count": 113,
      "outputs": []
    },
    {
      "cell_type": "code",
      "metadata": {
        "colab": {
          "base_uri": "https://localhost:8080/"
        },
        "id": "yVbt0DjE9xqe",
        "outputId": "fbcce893-d85c-4962-84e6-f20858c8eb3b"
      },
      "source": [
        "accs = []\n",
        "accs_eval = []\n",
        "for i in range(10):\n",
        "    print(i)\n",
        "    accs.append(train(model, training_generator, optimizer, criterion))\n",
        "    accs_eval.append(evaluate(model, valid_generator, criterion))"
      ],
      "execution_count": 114,
      "outputs": [
        {
          "output_type": "stream",
          "text": [
            "0\n",
            "Loss: 0.2761245961184497; Accuracy: 0.9387160598098098\n",
            "Loss: 0.25020107749165627; Accuracy: 0.9384086574537268\n",
            "Loss: 0.2411269984565484; Accuracy: 0.9383505439313105\n",
            "Loss: 0.23607930241263966; Accuracy: 0.9384172214928732\n",
            "1\n",
            "Loss: 0.22074392188836386; Accuracy: 0.9387160598098098\n",
            "Loss: 0.21936323289471069; Accuracy: 0.9384086574537268\n",
            "Loss: 0.21804015514313202; Accuracy: 0.9383505439313105\n",
            "Loss: 0.21642805854099398; Accuracy: 0.9384172214928732\n",
            "2\n",
            "Loss: 0.20767510096888403; Accuracy: 0.9387238801301301\n",
            "Loss: 0.205352380465513; Accuracy: 0.938422336168084\n",
            "Loss: 0.2032298174857219; Accuracy: 0.9383987370790263\n",
            "Loss: 0.20087504095138684; Accuracy: 0.9385041572893223\n",
            "3\n",
            "Loss: 0.18856761966262375; Accuracy: 0.9395919356856857\n",
            "Loss: 0.18623165827637736; Accuracy: 0.9394619184592297\n",
            "Loss: 0.18429084721904232; Accuracy: 0.9395762129043015\n",
            "Loss: 0.1821542469787878; Accuracy: 0.9398531273443361\n",
            "4\n",
            "Loss: 0.17244230569512756; Accuracy: 0.9415431056056056\n",
            "Loss: 0.1707514642424259; Accuracy: 0.941335902326163\n",
            "Loss: 0.1694874301373899; Accuracy: 0.941501333777926\n",
            "Loss: 0.16795818390295367; Accuracy: 0.9417862278069518\n",
            "5\n",
            "Loss: 0.16219098530374132; Accuracy: 0.9431423611111112\n",
            "Loss: 0.16101978598101965; Accuracy: 0.9429011380690345\n",
            "Loss: 0.1602350566219433; Accuracy: 0.9429262879293098\n",
            "Loss: 0.1591208470940113; Accuracy: 0.943235808952238\n",
            "6\n",
            "Loss: 0.15573098817029157; Accuracy: 0.94458130005005\n",
            "Loss: 0.15482128130876763; Accuracy: 0.9443276325662832\n",
            "Loss: 0.15426721986570768; Accuracy: 0.9443030489329777\n",
            "Loss: 0.1533609321375852; Accuracy: 0.9445027272443111\n",
            "7\n",
            "Loss: 0.15109030306488425; Accuracy: 0.9455979416916916\n",
            "Loss: 0.15030936020919833; Accuracy: 0.9453984804902451\n",
            "Loss: 0.14986675680702272; Accuracy: 0.9453698107702567\n",
            "Loss: 0.14907478271636793; Accuracy: 0.9455479104151038\n",
            "8\n",
            "Loss: 0.14738686599053658; Accuracy: 0.946653684934935\n",
            "Loss: 0.14668451116912778; Accuracy: 0.9464087512506253\n",
            "Loss: 0.14630703760851976; Accuracy: 0.946316740996999\n",
            "Loss: 0.1455941550875193; Accuracy: 0.9464661087146786\n",
            "9\n",
            "Loss: 0.14428568412144263; Accuracy: 0.9473927052052052\n",
            "Loss: 0.14364219516545548; Accuracy: 0.9471806215607804\n",
            "Loss: 0.14330993719316992; Accuracy: 0.9470357306602201\n",
            "Loss: 0.14266081254768145; Accuracy: 0.9472192266816705\n"
          ],
          "name": "stdout"
        }
      ]
    },
    {
      "cell_type": "code",
      "metadata": {
        "colab": {
          "base_uri": "https://localhost:8080/",
          "height": 295
        },
        "id": "1ufIwlQb9zII",
        "outputId": "6bacb506-f5d4-482a-f734-5f31cc9f9aea"
      },
      "source": [
        "plt.plot(np.sqrt(accs))\n",
        "plt.plot(np.sqrt(accs_eval))\n",
        "plt.title('model Accuracy')\n",
        "plt.ylabel('Acc')\n",
        "plt.xlabel('epoch')\n",
        "plt.legend(['train', 'val'], loc='upper left')\n",
        "plt.show()"
      ],
      "execution_count": 115,
      "outputs": [
        {
          "output_type": "display_data",
          "data": {
            "image/png": "[encoded data removed]",
            "text/plain": [
              "<Figure size 432x288 with 1 Axes>"
            ]
          },
          "metadata": {
            "tags": [],
            "needs_background": "light"
          }
        }
      ]
    },
    {
      "cell_type": "code",
      "metadata": {
        "id": "Gx8bA6GU93O_"
      },
      "source": [
        "preds = []\n",
        "targets = []\n",
        "for texts, ys in valid_generator:\n",
        "    preds += model(texts.to(device)).squeeze().detach().to('cpu').numpy().tolist()\n",
        "    targets += ys.numpy().tolist()"
      ],
      "execution_count": 116,
      "outputs": []
    },
    {
      "cell_type": "code",
      "metadata": {
        "colab": {
          "base_uri": "https://localhost:8080/"
        },
        "id": "1offLBhj94rz",
        "outputId": "344dc371-725b-46b4-b96c-897e636565a1"
      },
      "source": [
        "print(classification_report(targets, (np.array(preds) > 0.2).astype(int)))"
      ],
      "execution_count": 121,
      "outputs": [
        {
          "output_type": "stream",
          "text": [
            "              precision    recall  f1-score   support\n",
            "\n",
            "         0.0       0.97      0.96      0.97     61266\n",
            "         1.0       0.49      0.60      0.54      4041\n",
            "\n",
            "    accuracy                           0.94     65307\n",
            "   macro avg       0.73      0.78      0.75     65307\n",
            "weighted avg       0.94      0.94      0.94     65307\n",
            "\n"
          ],
          "name": "stdout"
        }
      ]
    },
    {
      "cell_type": "markdown",
      "metadata": {
        "id": "dsXZrGmS-KYq"
      },
      "source": [
        "## в) складывать эмбединги"
      ]
    },
    {
      "cell_type": "code",
      "metadata": {
        "id": "D3Kqoi88-Qxv"
      },
      "source": [
        "class Clf(nn.Module):\n",
        "    \n",
        "    def __init__(self, vocab_size, embedding_dim, output_dim):\n",
        "        \n",
        "        super().__init__()          \n",
        "        self.embedding = nn.Embedding(vocab_size, embedding_dim)\n",
        "        self.fc = nn.Linear(embedding_dim, output_dim) # размер склееного вектора - размер эмбединга на MAX_LEN\n",
        "        self.act = nn.Sigmoid() \n",
        "        \n",
        "    def forward(self, text):\n",
        "        \n",
        "        embedded = self.embedding(text)   \n",
        "        embedded_mean = torch.sum(embedded, dim=1)\n",
        "        dense_outputs = self.fc(embedded_mean)\n",
        "        outputs=self.act(dense_outputs)\n",
        "        \n",
        "        return outputs"
      ],
      "execution_count": 122,
      "outputs": []
    },
    {
      "cell_type": "code",
      "metadata": {
        "id": "mFixT5Td-UfU"
      },
      "source": [
        "model = Clf(len(word2id), embedding_dim=50, output_dim=1)\n",
        "\n",
        "optimizer = optim.Adam(model.parameters())\n",
        "criterion = nn.BCELoss() \n",
        "\n",
        "model = model.to(device)\n",
        "criterion = criterion.to(device)"
      ],
      "execution_count": 123,
      "outputs": []
    },
    {
      "cell_type": "code",
      "metadata": {
        "colab": {
          "base_uri": "https://localhost:8080/"
        },
        "id": "OOJh86GO-YVO",
        "outputId": "d8fa19d8-18f7-4913-e9a5-88b08fd45e92"
      },
      "source": [
        "accs = []\n",
        "accs_eval = []\n",
        "for i in range(10):\n",
        "    print(i)\n",
        "    accs.append(train(model, training_generator, optimizer, criterion))\n",
        "    accs_eval.append(evaluate(model, valid_generator, criterion))"
      ],
      "execution_count": 124,
      "outputs": [
        {
          "output_type": "stream",
          "text": [
            "0\n",
            "Loss: 0.20311971637490275; Accuracy: 0.9375938438438438\n",
            "Loss: 0.1782516239731833; Accuracy: 0.94193971985993\n",
            "Loss: 0.16654895904134534; Accuracy: 0.9441532594198067\n",
            "Loss: 0.1589453240731234; Accuracy: 0.9456504751187796\n",
            "1\n",
            "Loss: 0.12873971279900712; Accuracy: 0.953125\n",
            "Loss: 0.12842359423093225; Accuracy: 0.9527048680590295\n",
            "Loss: 0.12839189310542304; Accuracy: 0.9524893714571524\n",
            "Loss: 0.1276967467707108; Accuracy: 0.9525750578269567\n",
            "2\n",
            "Loss: 0.12410074378828984; Accuracy: 0.9546343218218218\n",
            "Loss: 0.1242808112077948; Accuracy: 0.9540688312906453\n",
            "Loss: 0.12462207353877282; Accuracy: 0.9536876875625209\n",
            "Loss: 0.12416897234852745; Accuracy: 0.9536182873843461\n",
            "3\n",
            "Loss: 0.12277048531252223; Accuracy: 0.9552208458458459\n",
            "Loss: 0.12298538882272311; Accuracy: 0.9545319534767384\n",
            "Loss: 0.12335587487931489; Accuracy: 0.9541826442147382\n",
            "Loss: 0.12291137453622299; Accuracy: 0.954127203675919\n",
            "4\n",
            "Loss: 0.12216733145836119; Accuracy: 0.9554359046546547\n",
            "Loss: 0.12235539289505377; Accuracy: 0.9547859867433717\n",
            "Loss: 0.12269680670059772; Accuracy: 0.9544392401633878\n",
            "Loss: 0.12223494389085329; Accuracy: 0.954380196611653\n",
            "5\n",
            "Loss: 0.1217941836164043; Accuracy: 0.9555101976976977\n",
            "Loss: 0.12194577985633726; Accuracy: 0.9549208197848924\n",
            "Loss: 0.12224128147976603; Accuracy: 0.9545903321940646\n",
            "Loss: 0.12176342809791266; Accuracy: 0.9545530913978495\n",
            "6\n",
            "Loss: 0.1215117010059538; Accuracy: 0.9554828265765766\n",
            "Loss: 0.12163137020231068; Accuracy: 0.9549384067033517\n",
            "Loss: 0.12187233415319547; Accuracy: 0.9546815084194732\n",
            "Loss: 0.12138272378389672; Accuracy: 0.9546546792948237\n",
            "7\n",
            "Loss: 0.1212686369003536; Accuracy: 0.9554828265765766\n",
            "Loss: 0.12136889914383346; Accuracy: 0.9549735805402702\n",
            "Loss: 0.12154792363110405; Accuracy: 0.9547375166722241\n",
            "Loss: 0.12104989831769249; Accuracy: 0.9547611512253064\n",
            "8\n",
            "Loss: 0.12103862403794094; Accuracy: 0.9556548736236237\n",
            "Loss: 0.12113705171964477; Accuracy: 0.9550341577038519\n",
            "Loss: 0.12124825311217875; Accuracy: 0.9548326004501501\n",
            "Loss: 0.12074504927672663; Accuracy: 0.9548432029882471\n",
            "9\n",
            "Loss: 0.12080203805927997; Accuracy: 0.9556040415415415\n",
            "Loss: 0.12091708124399543; Accuracy: 0.9550107084792396\n",
            "Loss: 0.12095838601577676; Accuracy: 0.9548495331777259\n",
            "Loss: 0.12045382593170825; Accuracy: 0.9549008345836459\n"
          ],
          "name": "stdout"
        }
      ]
    },
    {
      "cell_type": "code",
      "metadata": {
        "colab": {
          "base_uri": "https://localhost:8080/",
          "height": 295
        },
        "id": "cXiyHK-y-b8t",
        "outputId": "82530c9a-badc-4789-f630-a37c00fc1a5c"
      },
      "source": [
        "plt.plot(np.sqrt(accs))\n",
        "plt.plot(np.sqrt(accs_eval))\n",
        "plt.title('model Accuracy')\n",
        "plt.ylabel('Acc')\n",
        "plt.xlabel('epoch')\n",
        "plt.legend(['train', 'val'], loc='upper left')\n",
        "plt.show()"
      ],
      "execution_count": 125,
      "outputs": [
        {
          "output_type": "display_data",
          "data": {
            "image/png": "[encoded data removed]",
            "text/plain": [
              "<Figure size 432x288 with 1 Axes>"
            ]
          },
          "metadata": {
            "tags": [],
            "needs_background": "light"
          }
        }
      ]
    },
    {
      "cell_type": "code",
      "metadata": {
        "id": "4j1FFt3W-dmp"
      },
      "source": [
        "preds = []\n",
        "targets = []\n",
        "for texts, ys in valid_generator:\n",
        "    preds += model(texts.to(device)).squeeze().detach().to('cpu').numpy().tolist()\n",
        "    targets += ys.numpy().tolist()"
      ],
      "execution_count": 126,
      "outputs": []
    },
    {
      "cell_type": "code",
      "metadata": {
        "colab": {
          "base_uri": "https://localhost:8080/"
        },
        "id": "LZWabtGP-fHU",
        "outputId": "58bd8b7e-7311-40d5-9aad-11d4f69bda3e"
      },
      "source": [
        "print(classification_report(targets, (np.array(preds) > 0.25).astype(int)))"
      ],
      "execution_count": 129,
      "outputs": [
        {
          "output_type": "stream",
          "text": [
            "              precision    recall  f1-score   support\n",
            "\n",
            "         0.0       0.97      0.97      0.97     61266\n",
            "         1.0       0.60      0.61      0.60      4041\n",
            "\n",
            "    accuracy                           0.95     65307\n",
            "   macro avg       0.79      0.79      0.79     65307\n",
            "weighted avg       0.95      0.95      0.95     65307\n",
            "\n"
          ],
          "name": "stdout"
        }
      ]
    },
    {
      "cell_type": "markdown",
      "metadata": {
        "id": "JSDi7IjFPhUU"
      },
      "source": [
        "# Задание 2\n",
        "2) В одной из задач используйте сразу две предобученные эмбединг модели (можно фастекст и ворд2век, а можно просто 2 фастекста с разными параметрами) в одной нейронке (имеется в виду предобученные до обучения нейронки, т.е вы можете сами обучить фастекст/ворд2век и не искать готовые модели в интернете). Попробуйте усреднять эмбединги и конкатенировать (общие эмбединги потом в один вектор собирайте любым способом - например, тем который оказался лучше в первой задаче)."
      ]
    },
    {
      "cell_type": "markdown",
      "metadata": {
        "id": "w4gcJqgBP2Ww"
      },
      "source": [
        "Попробую объединить Word2Vec и FastText эмбеддинги"
      ]
    },
    {
      "cell_type": "code",
      "metadata": {
        "id": "FDNpEUlEQIip"
      },
      "source": [
        "texts = train_dataset.question_text.apply(preprocess).tolist()"
      ],
      "execution_count": 130,
      "outputs": []
    },
    {
      "cell_type": "code",
      "metadata": {
        "colab": {
          "base_uri": "https://localhost:8080/"
        },
        "id": "d8b7BcPwQR7J",
        "outputId": "22815fd5-5cac-4def-d1f5-4a4b9e319817"
      },
      "source": [
        "%%time\n",
        "ft = gensim.models.FastText(texts, size=100, iter=5)\n",
        "w2v = gensim.models.Word2Vec(texts, size=100, iter=10)"
      ],
      "execution_count": 136,
      "outputs": [
        {
          "output_type": "stream",
          "text": [
            "CPU times: user 17min 2s, sys: 5.9 s, total: 17min 8s\n",
            "Wall time: 9min 14s\n"
          ],
          "name": "stdout"
        }
      ]
    },
    {
      "cell_type": "code",
      "metadata": {
        "id": "ZrbSr4V8REqU"
      },
      "source": [
        "weights_ft = np.zeros((len(word2id), 100))\n",
        "weights_w2v = np.zeros((len(word2id), 100))\n",
        "unk_vector = np.random.uniform(low=-1, high=1, size=(100,))\n",
        "\n",
        "for word, i in word2id.items():\n",
        "    # вектор паддинга оставим нулевым\n",
        "    if word == 'PAD':\n",
        "        continue   \n",
        "    try:\n",
        "        weights_ft[i] = ft.wv[word]\n",
        "    except KeyError:\n",
        "        # для слов, которых нет в модели тоже возьмем какой-то  рандомный вектор\n",
        "        weights[i] = ft.wv['опрагпллирао']\n",
        "\n",
        "for word, i in word2id.items():\n",
        "    # вектор паддинга оставим нулевым\n",
        "    if word == 'PAD':\n",
        "        continue   \n",
        "    try:\n",
        "        weights_w2v[i] = w2v.wv[word]\n",
        "    except KeyError:\n",
        "        # для слов, которых нет в модели тоже возьмем какой-то  рандомный вектор\n",
        "        weights[i] = unk_vector"
      ],
      "execution_count": 144,
      "outputs": []
    },
    {
      "cell_type": "markdown",
      "metadata": {
        "id": "R6bMFa4mm3mH"
      },
      "source": [
        "## Усреднение "
      ]
    },
    {
      "cell_type": "code",
      "metadata": {
        "id": "vLyL0d6nQa-7"
      },
      "source": [
        "class Clf(nn.Module):\n",
        "    \n",
        "    def __init__(self, vocab_size, embedding_dim, \n",
        "                 embeddings_ft, embeddings_w2v, output_dim):\n",
        "        \n",
        "        super().__init__()          \n",
        "        self.ft_embedding = nn.Embedding(vocab_size, embedding_dim)\n",
        "        self.w2v_embedding = nn.Embedding(vocab_size, embedding_dim)\n",
        "\n",
        "        self.ft_embedding.from_pretrained(torch.tensor(embeddings_ft), freeze=True)\n",
        "        self.w2v_embedding.from_pretrained(torch.tensor(embeddings_w2v), freeze=True)\n",
        "\n",
        "        self.fc = nn.Linear(embedding_dim, output_dim)\n",
        "        self.act = nn.Sigmoid() \n",
        "        \n",
        "    def forward(self, text):\n",
        "        \n",
        "        embedded_ft = self.ft_embedding(text)   \n",
        "        embedded_ft = torch.mean(embedded_ft, dim=1)\n",
        "\n",
        "        embedded_w2v = self.w2v_embedding(text)   \n",
        "        embedded_w2v = torch.mean(embedded_w2v, dim=1)\n",
        "\n",
        "        embedded_mean = (embedded_w2v + embedded_ft) / 2\n",
        "        \n",
        "        dense_outputs = self.fc(embedded_mean)\n",
        "        outputs=self.act(dense_outputs)\n",
        "        \n",
        "        return outputs"
      ],
      "execution_count": 152,
      "outputs": []
    },
    {
      "cell_type": "code",
      "metadata": {
        "id": "CxZBIUgMmmVT"
      },
      "source": [
        "model = Clf(len(word2id), embedding_dim=100,\n",
        "            embeddings_ft=weights_ft, embeddings_w2v=weights_w2v, output_dim=1)\n",
        "\n",
        "optimizer = optim.Adam(model.parameters())\n",
        "criterion = nn.BCELoss() \n",
        "\n",
        "model = model.to(device)\n",
        "criterion = criterion.to(device)"
      ],
      "execution_count": 153,
      "outputs": []
    },
    {
      "cell_type": "code",
      "metadata": {
        "colab": {
          "base_uri": "https://localhost:8080/"
        },
        "id": "sX_CQGt3ngN_",
        "outputId": "eb7afcde-bb2e-437a-ea93-28d5a54dcf00"
      },
      "source": [
        "accs = []\n",
        "accs_eval = []\n",
        "for i in range(10):\n",
        "    print(i)\n",
        "    accs.append(train(model, training_generator, optimizer, criterion))\n",
        "    accs_eval.append(evaluate(model, valid_generator, criterion))"
      ],
      "execution_count": 154,
      "outputs": [
        {
          "output_type": "stream",
          "text": [
            "0\n",
            "Loss: 0.2267019248849995; Accuracy: 0.9387160598098098\n",
            "Loss: 0.2048865467824299; Accuracy: 0.9391590326413206\n",
            "Loss: 0.18831415622482384; Accuracy: 0.9407471761420474\n",
            "Loss: 0.17712062666861975; Accuracy: 0.9422775615778944\n",
            "1\n",
            "Loss: 0.13521334117239303; Accuracy: 0.9500555242742743\n",
            "Loss: 0.13338548804504266; Accuracy: 0.9501723518009004\n",
            "Loss: 0.13205057719462154; Accuracy: 0.9503102596698899\n",
            "Loss: 0.13080027853549794; Accuracy: 0.9505999546761691\n",
            "2\n",
            "Loss: 0.12542944671483608; Accuracy: 0.9530585272772772\n",
            "Loss: 0.12478182604979014; Accuracy: 0.9527693534267133\n",
            "Loss: 0.12424859383571105; Accuracy: 0.9526873541180394\n",
            "Loss: 0.12366669406687268; Accuracy: 0.9528114450487621\n",
            "3\n",
            "Loss: 0.12146964417891698; Accuracy: 0.9544309934934935\n",
            "Loss: 0.1211549250400621; Accuracy: 0.9540082541270636\n",
            "Loss: 0.12085636359462144; Accuracy: 0.9538856702234078\n",
            "Loss: 0.1204545160699156; Accuracy: 0.9539367263690923\n",
            "4\n",
            "Loss: 0.11936344272709705; Accuracy: 0.9552521271271271\n",
            "Loss: 0.11920008338007586; Accuracy: 0.9547840326413206\n",
            "Loss: 0.11901068879231169; Accuracy: 0.9545838196065355\n",
            "Loss: 0.11867300485742632; Accuracy: 0.9545960708927231\n",
            "5\n",
            "Loss: 0.1181232921659827; Accuracy: 0.9557682682682682\n",
            "Loss: 0.11804353147036974; Accuracy: 0.9552217515007504\n",
            "Loss: 0.11791373464356823; Accuracy: 0.9550696586362121\n",
            "Loss: 0.11759843916692088; Accuracy: 0.955051262815704\n",
            "6\n",
            "Loss: 0.11734414120783677; Accuracy: 0.956081081081081\n",
            "Loss: 0.11731698307925728; Accuracy: 0.9554699224612306\n",
            "Loss: 0.1172232931146287; Accuracy: 0.9553145319273091\n",
            "Loss: 0.11691358218784181; Accuracy: 0.9553101165916479\n",
            "7\n",
            "Loss: 0.11682903983288102; Accuracy: 0.9564134446946947\n",
            "Loss: 0.11683815211549647; Accuracy: 0.9557786705852926\n",
            "Loss: 0.11676816061069545; Accuracy: 0.9555594052184061\n",
            "Loss: 0.11645690442458127; Accuracy: 0.9555377125531382\n",
            "8\n",
            "Loss: 0.11647316631865692; Accuracy: 0.9564603666166166\n",
            "Loss: 0.11650913331346431; Accuracy: 0.9558920085042522\n",
            "Loss: 0.11645563814084742; Accuracy: 0.9556844468989664\n",
            "Loss: 0.11614031527237047; Accuracy: 0.9556627438109527\n",
            "9\n",
            "Loss: 0.11621747600349101; Accuracy: 0.9565698511011012\n",
            "Loss: 0.11627436697244525; Accuracy: 0.9559975300150075\n",
            "Loss: 0.11623288536020103; Accuracy: 0.9557964634044681\n",
            "Loss: 0.11591233798982978; Accuracy: 0.955767262128032\n"
          ],
          "name": "stdout"
        }
      ]
    },
    {
      "cell_type": "code",
      "metadata": {
        "colab": {
          "base_uri": "https://localhost:8080/",
          "height": 295
        },
        "id": "99vsYcF-nlgR",
        "outputId": "e30a0371-f6e3-4475-e40d-2a39f518453e"
      },
      "source": [
        "plt.plot(np.sqrt(accs))\n",
        "plt.plot(np.sqrt(accs_eval))\n",
        "plt.title('model Accuracy')\n",
        "plt.ylabel('Acc')\n",
        "plt.xlabel('epoch')\n",
        "plt.legend(['train', 'val'], loc='upper left')\n",
        "plt.show()"
      ],
      "execution_count": 155,
      "outputs": [
        {
          "output_type": "display_data",
          "data": {
            "image/png": "[encoded data removed]",
            "text/plain": [
              "<Figure size 432x288 with 1 Axes>"
            ]
          },
          "metadata": {
            "tags": [],
            "needs_background": "light"
          }
        }
      ]
    },
    {
      "cell_type": "code",
      "metadata": {
        "id": "G8afrgcSpUT3"
      },
      "source": [
        "preds = []\n",
        "targets = []\n",
        "for texts, ys in valid_generator:\n",
        "    preds += model(texts.to(device)).squeeze().detach().to('cpu').numpy().tolist()\n",
        "    targets += ys.numpy().tolist()"
      ],
      "execution_count": 156,
      "outputs": []
    },
    {
      "cell_type": "code",
      "metadata": {
        "colab": {
          "base_uri": "https://localhost:8080/"
        },
        "id": "bSt9NfSYpbRk",
        "outputId": "d36b1579-64a7-4fda-9418-77a4125803a1"
      },
      "source": [
        "print(classification_report(targets, (np.array(preds) > 0.25).astype(int)))"
      ],
      "execution_count": 163,
      "outputs": [
        {
          "output_type": "stream",
          "text": [
            "              precision    recall  f1-score   support\n",
            "\n",
            "         0.0       0.98      0.97      0.97     61266\n",
            "         1.0       0.58      0.65      0.61      4041\n",
            "\n",
            "    accuracy                           0.95     65307\n",
            "   macro avg       0.78      0.81      0.79     65307\n",
            "weighted avg       0.95      0.95      0.95     65307\n",
            "\n"
          ],
          "name": "stdout"
        }
      ]
    },
    {
      "cell_type": "markdown",
      "metadata": {
        "id": "MZdfMb0Qpbzw"
      },
      "source": [
        "## Конкатенация"
      ]
    },
    {
      "cell_type": "code",
      "metadata": {
        "id": "kU0Wi9Bapd9v"
      },
      "source": [
        "class Clf(nn.Module):\n",
        "    \n",
        "    def __init__(self, vocab_size, embedding_dim, \n",
        "                 embeddings_ft, embeddings_w2v, output_dim):\n",
        "        \n",
        "        super().__init__()\n",
        "        self.flatten = nn.Flatten()          \n",
        "        self.ft_embedding = nn.Embedding(vocab_size, embedding_dim)\n",
        "        self.w2v_embedding = nn.Embedding(vocab_size, embedding_dim)\n",
        "\n",
        "        self.ft_embedding.from_pretrained(torch.tensor(embeddings_ft), freeze=True)\n",
        "        self.w2v_embedding.from_pretrained(torch.tensor(embeddings_w2v), freeze=True)\n",
        "\n",
        "        self.fc = nn.Linear(embedding_dim, output_dim)\n",
        "        self.act = nn.Sigmoid() \n",
        "        \n",
        "    def forward(self, text):\n",
        "        \n",
        "        embedded_ft = self.ft_embedding(text)   \n",
        "        embedded_ft = torch.mean(embedded_ft, dim=1)\n",
        "\n",
        "        embedded_w2v = self.w2v_embedding(text)   \n",
        "        embedded_w2v = torch.mean(embedded_w2v, dim=1)\n",
        "\n",
        "        hidden_ft = self.flatten(embedded_ft)\n",
        "        hidden_w2v = self.flatten(embedded_w2v)\n",
        "\n",
        "        embedded_mean = (hidden_w2v + hidden_ft) / 2\n",
        "        \n",
        "        dense_outputs = self.fc(embedded_mean)\n",
        "        outputs=self.act(dense_outputs)\n",
        "        \n",
        "        return outputs"
      ],
      "execution_count": 167,
      "outputs": []
    },
    {
      "cell_type": "code",
      "metadata": {
        "id": "1JRiYITSqB53"
      },
      "source": [
        "model = Clf(len(word2id), embedding_dim=100,\n",
        "            embeddings_ft=weights_ft, embeddings_w2v=weights_w2v, output_dim=1)\n",
        "\n",
        "optimizer = optim.Adam(model.parameters())\n",
        "criterion = nn.BCELoss() \n",
        "\n",
        "model = model.to(device)\n",
        "criterion = criterion.to(device)"
      ],
      "execution_count": 183,
      "outputs": []
    },
    {
      "cell_type": "code",
      "metadata": {
        "colab": {
          "base_uri": "https://localhost:8080/"
        },
        "id": "UvEc0Vr9qC7x",
        "outputId": "e347c62a-9929-4fc4-fb59-37158a48bdd0"
      },
      "source": [
        "accs = []\n",
        "accs_eval = []\n",
        "for i in range(3):\n",
        "    print(i)\n",
        "    accs.append(train(model, training_generator, optimizer, criterion))\n",
        "    accs_eval.append(evaluate(model, valid_generator, criterion))"
      ],
      "execution_count": 184,
      "outputs": [
        {
          "output_type": "stream",
          "text": [
            "0\n",
            "Loss: 0.2260284845431049; Accuracy: 0.9381021646646647\n",
            "Loss: 0.202374991817794; Accuracy: 0.9390886849674838\n",
            "Loss: 0.18619842675029138; Accuracy: 0.94079015921974\n",
            "Loss: 0.17533545071693712; Accuracy: 0.9424094304826206\n",
            "1\n",
            "Loss: 0.13433486784811136; Accuracy: 0.9501767392392393\n",
            "Loss: 0.1325978711098358; Accuracy: 0.9503423586793397\n",
            "Loss: 0.13132802617126563; Accuracy: 0.9505264775758586\n",
            "Loss: 0.13017457765817017; Accuracy: 0.950816805763941\n",
            "2\n",
            "Loss: 0.12494571863098426; Accuracy: 0.9530858983983984\n",
            "Loss: 0.12431490360728915; Accuracy: 0.9528592421210605\n",
            "Loss: 0.12381940828925095; Accuracy: 0.9528475637712571\n",
            "Loss: 0.12329769636164102; Accuracy: 0.9529755485746436\n"
          ],
          "name": "stdout"
        }
      ]
    },
    {
      "cell_type": "code",
      "metadata": {
        "colab": {
          "base_uri": "https://localhost:8080/",
          "height": 295
        },
        "id": "ZE1PMgnUqHk_",
        "outputId": "f55c4a8e-2db8-4386-f159-62d00860dbe6"
      },
      "source": [
        "plt.plot(np.sqrt(accs))\n",
        "plt.plot(np.sqrt(accs_eval))\n",
        "plt.title('model Accuracy')\n",
        "plt.ylabel('Acc')\n",
        "plt.xlabel('epoch')\n",
        "plt.legend(['train', 'val'], loc='upper left')\n",
        "plt.show()"
      ],
      "execution_count": 185,
      "outputs": [
        {
          "output_type": "display_data",
          "data": {
            "image/png": "[encoded data removed]",
            "text/plain": [
              "<Figure size 432x288 with 1 Axes>"
            ]
          },
          "metadata": {
            "tags": [],
            "needs_background": "light"
          }
        }
      ]
    },
    {
      "cell_type": "code",
      "metadata": {
        "id": "jQ3mH0i9qJ1Q"
      },
      "source": [
        "preds = []\n",
        "targets = []\n",
        "for texts, ys in valid_generator:\n",
        "    preds += model(texts.to(device)).squeeze().detach().to('cpu').numpy().tolist()\n",
        "    targets += ys.numpy().tolist()"
      ],
      "execution_count": 186,
      "outputs": []
    },
    {
      "cell_type": "code",
      "metadata": {
        "colab": {
          "base_uri": "https://localhost:8080/"
        },
        "id": "FKBkcZW3qMDO",
        "outputId": "6419c20b-5091-4afa-f9c9-d2ec9d4b1607"
      },
      "source": [
        "print(classification_report(targets, (np.array(preds) > 0.3).astype(int)))"
      ],
      "execution_count": 201,
      "outputs": [
        {
          "output_type": "stream",
          "text": [
            "              precision    recall  f1-score   support\n",
            "\n",
            "         0.0       0.97      0.97      0.97     61266\n",
            "         1.0       0.61      0.59      0.60      4041\n",
            "\n",
            "    accuracy                           0.95     65307\n",
            "   macro avg       0.79      0.78      0.79     65307\n",
            "weighted avg       0.95      0.95      0.95     65307\n",
            "\n"
          ],
          "name": "stdout"
        }
      ]
    },
    {
      "cell_type": "code",
      "metadata": {
        "id": "lzUcUU8mvpnP"
      },
      "source": [
        ""
      ],
      "execution_count": null,
      "outputs": []
    }
  ]
}