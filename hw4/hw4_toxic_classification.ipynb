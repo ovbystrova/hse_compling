{
  "nbformat": 4,
  "nbformat_minor": 0,
  "metadata": {
    "colab": {
      "name": "hw4_toxic_classification.ipynb",
      "provenance": [],
      "toc_visible": true
    },
    "kernelspec": {
      "name": "python3",
      "display_name": "Python 3"
    }
  },
  "cells": [
    {
      "cell_type": "markdown",
      "metadata": {
        "id": "0E8ajQSmiWh3"
      },
      "source": [
        "# Задание 1. (2 балла)\r\n",
        "Преобразуйте таблицу с абсолютными частотностями в семинарской тетрадке в таблицу с tfidf значениями. (Таблица - https://i.ibb.co/r5Nc2HC/abs-bow.jpg) Формула tfidf есть в семинаре на картнике с пояснениями на английском. \r\n",
        "Можно считать в google sheets, екселе, питоне или на листочке. Сделайте скрин получившейся таблицы и загрузите картинку на гитхаб, вставьте ссылку в поле ниже.\r\n",
        "\r\n"
      ]
    },
    {
      "cell_type": "markdown",
      "metadata": {
        "id": "bddvAJyoFh3g"
      },
      "source": [
        "![image.png](data:image/png;base64,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)"
      ]
    },
    {
      "cell_type": "markdown",
      "metadata": {
        "id": "hF6b00MEmOsU"
      },
      "source": [
        "# Задание 2. \r\n",
        "а) Посчитайте близость между 3 и 12666 текстами в датасете (labeled.csv из семинара) \r\n",
        "б) найдите 3 самых близких текста к тексту номер 43; выведите сами тексты и значения близостей, а не только индексы этих текстов. \r\n",
        "Векторизовать можно любым способом, но постарайтесь, чтобы 1 и 0 не получались в близостях.\r\n",
        "Результат запишите в тетрадке."
      ]
    },
    {
      "cell_type": "code",
      "metadata": {
        "id": "I2tKwLcTF1JA"
      },
      "source": [
        "import numpy as np\r\n",
        "import pandas as pd\r\n",
        "from sklearn.feature_extraction.text import TfidfVectorizer\r\n",
        "from sklearn.model_selection import train_test_split\r\n",
        "from sklearn.metrics.pairwise import cosine_similarity"
      ],
      "execution_count": null,
      "outputs": []
    },
    {
      "cell_type": "code",
      "metadata": {
        "colab": {
          "base_uri": "https://localhost:8080/",
          "height": 198
        },
        "id": "M5lhUiAHF3UD",
        "outputId": "6af4aa30-f47c-4dda-a1e2-182b932a6c76"
      },
      "source": [
        "df = pd.read_csv('data/labeled.csv')\r\n",
        "df.comment = df.comment\r\n",
        "df.head()"
      ],
      "execution_count": null,
      "outputs": [
        {
          "output_type": "execute_result",
          "data": {
            "text/html": [
              "<div>\n",
              "<style scoped>\n",
              "    .dataframe tbody tr th:only-of-type {\n",
              "        vertical-align: middle;\n",
              "    }\n",
              "\n",
              "    .dataframe tbody tr th {\n",
              "        vertical-align: top;\n",
              "    }\n",
              "\n",
              "    .dataframe thead th {\n",
              "        text-align: right;\n",
              "    }\n",
              "</style>\n",
              "<table border=\"1\" class=\"dataframe\">\n",
              "  <thead>\n",
              "    <tr style=\"text-align: right;\">\n",
              "      <th></th>\n",
              "      <th>comment</th>\n",
              "      <th>toxic</th>\n",
              "    </tr>\n",
              "  </thead>\n",
              "  <tbody>\n",
              "    <tr>\n",
              "      <th>0</th>\n",
              "      <td>Верблюдов-то за что? Дебилы, бл...\\n</td>\n",
              "      <td>1.0</td>\n",
              "    </tr>\n",
              "    <tr>\n",
              "      <th>1</th>\n",
              "      <td>Хохлы, это отдушина затюканого россиянина, мол...</td>\n",
              "      <td>1.0</td>\n",
              "    </tr>\n",
              "    <tr>\n",
              "      <th>2</th>\n",
              "      <td>Собаке - собачья смерть\\n</td>\n",
              "      <td>1.0</td>\n",
              "    </tr>\n",
              "    <tr>\n",
              "      <th>3</th>\n",
              "      <td>Страницу обнови, дебил. Это тоже не оскорблени...</td>\n",
              "      <td>1.0</td>\n",
              "    </tr>\n",
              "    <tr>\n",
              "      <th>4</th>\n",
              "      <td>тебя не убедил 6-страничный пдф в том, что Скр...</td>\n",
              "      <td>1.0</td>\n",
              "    </tr>\n",
              "  </tbody>\n",
              "</table>\n",
              "</div>"
            ],
            "text/plain": [
              "                                             comment  toxic\n",
              "0               Верблюдов-то за что? Дебилы, бл...\\n    1.0\n",
              "1  Хохлы, это отдушина затюканого россиянина, мол...    1.0\n",
              "2                          Собаке - собачья смерть\\n    1.0\n",
              "3  Страницу обнови, дебил. Это тоже не оскорблени...    1.0\n",
              "4  тебя не убедил 6-страничный пдф в том, что Скр...    1.0"
            ]
          },
          "metadata": {
            "tags": []
          },
          "execution_count": 30
        }
      ]
    },
    {
      "cell_type": "code",
      "metadata": {
        "id": "eaIF_m_2F6B_"
      },
      "source": [
        "# а) Посчитайте близость между 3 и 12666 текстами в датасете (labeled.csv из семинара)\r\n",
        "\r\n",
        "vectorizer = TfidfVectorizer() # Посмотрим просто на дефолтных настройках\r\n",
        "X = vectorizer.fit_transform(df.comment)"
      ],
      "execution_count": null,
      "outputs": []
    },
    {
      "cell_type": "code",
      "metadata": {
        "colab": {
          "base_uri": "https://localhost:8080/"
        },
        "id": "SIC9ytbWGmpW",
        "outputId": "8ef33133-5111-4119-ed00-fb10512a6a2d"
      },
      "source": [
        "X.shape, df.shape"
      ],
      "execution_count": null,
      "outputs": [
        {
          "output_type": "execute_result",
          "data": {
            "text/plain": [
              "((14412, 68423), (14412, 2))"
            ]
          },
          "metadata": {
            "tags": []
          },
          "execution_count": 32
        }
      ]
    },
    {
      "cell_type": "code",
      "metadata": {
        "colab": {
          "base_uri": "https://localhost:8080/"
        },
        "id": "rZ3h34f_Gnae",
        "outputId": "c6567887-25fe-44dd-91d5-4236c83f2067"
      },
      "source": [
        "ids = np.array([3,12666])\r\n",
        "selected = X[ids,:]\r\n",
        "print(df.iloc[3].comment)\r\n",
        "print(df.iloc[12666].comment)\r\n",
        "cosine_similarity(selected) # косинусная близость между двумя текстами 0.27"
      ],
      "execution_count": null,
      "outputs": [
        {
          "output_type": "stream",
          "text": [
            "Страницу обнови, дебил. Это тоже не оскорбление, а доказанный факт - не-дебил про себя во множественном числе писать не будет. Или мы в тебя верим - это ты и твои воображаемые друзья?\n",
            "\n",
            "Это не параноик, это дебил\n",
            "\n"
          ],
          "name": "stdout"
        },
        {
          "output_type": "execute_result",
          "data": {
            "text/plain": [
              "array([[1.        , 0.27330886],\n",
              "       [0.27330886, 1.        ]])"
            ]
          },
          "metadata": {
            "tags": []
          },
          "execution_count": 33
        }
      ]
    },
    {
      "cell_type": "code",
      "metadata": {
        "colab": {
          "base_uri": "https://localhost:8080/"
        },
        "id": "rHVTS1KKI1Qt",
        "outputId": "0fa84e96-cd22-4177-f323-e0c5dd98bc8e"
      },
      "source": [
        "# б) найдите 3 самых близких текста к тексту номер 43; выведите сами тексты и значения близостей, а не только индексы этих текстов.\r\n",
        "X_cosine = cosine_similarity(X)\r\n",
        "top_similar = X_cosine[43].argsort()[::-1][1:4]\r\n",
        "\r\n",
        "\r\n",
        "print(f\"Initial text: {df.iloc[43].comment}\")\r\n",
        "for _id in top_similar:\r\n",
        "    print(f\"{df.iloc[_id].comment} : {X_cosine[43][_id]}\\n\")"
      ],
      "execution_count": null,
      "outputs": [
        {
          "output_type": "stream",
          "text": [
            "Initial text: Люди зажрались и охуели если по мнению этих игроков андромеда лучше Антема. Хотя че там с багаутом76 сравнивают вон... Вот оно че оказывается, игроки просто охуели, ну ок. Вот долбанные пидерасы, не хотят покупать такую отличную игру, а еще смеют ругать такой божественный геймплей. Баги, хуевый геймплей поправят, а контент, ну его запилят, через год другой, причем бесплатно! Ага. Стоит лишь потерпеть!\n",
            "\n",
            "НУ И КАКАЯ МРАЗЬ КИДАЕТ ССЫЛКИ? ОХУЕЛИ ТАМ В КРАЙ УЖЕ?\n",
            " : 0.16043982092396117\n",
            "\n",
            "Че за бригада и че за махоун? Из полицейской академии? : 0.11789148760536666\n",
            "\n",
            "Герка ебет только даунов которые игрли а него. Ибо и геймплей и сюжетто кусок говна.\n",
            " : 0.11409080923099105\n",
            "\n"
          ],
          "name": "stdout"
        }
      ]
    },
    {
      "cell_type": "markdown",
      "metadata": {
        "id": "W_7RrM_RKaeT"
      },
      "source": [
        "# Задание 3. \r\n",
        "Обучите 2 любых разных классификатора из семинара. Предскажите токсичность для текстов из 2ch_corpus.txt (второй семинар) и найдите 10 самых токсичных для каждого из классификаторов. Сравните получаемые тексты - какие тексты совпадают, какие отличаются, правда ли тексты токсичные?\r\n",
        "*Можете предсказывать не все данные, но не менее 2500.\r\n",
        "\r\n",
        "Требования к классификаторам:\r\n",
        "а) один должен использовать CountVectorizer, другой TfidfVectorizer\r\n",
        "б) у векторазера должны быть вручную заданы как минимум 5 параметров\r\n",
        "в) у классификатора должно быть задано вручную как минимум 2 параметра\r\n",
        "г)  f1 мера каждого из классификаторов должна быть минимум 0.75"
      ]
    },
    {
      "cell_type": "markdown",
      "metadata": {
        "id": "n6zO-mUjZNfC"
      },
      "source": [
        "## Первый классификатор (Count-Vectorizer)"
      ]
    },
    {
      "cell_type": "code",
      "metadata": {
        "colab": {
          "base_uri": "https://localhost:8080/",
          "height": 198
        },
        "id": "Ih4CUUZfKbV8",
        "outputId": "c2583033-6ff1-4cf7-f0d2-16d012925466"
      },
      "source": [
        "df.head()"
      ],
      "execution_count": null,
      "outputs": [
        {
          "output_type": "execute_result",
          "data": {
            "text/html": [
              "<div>\n",
              "<style scoped>\n",
              "    .dataframe tbody tr th:only-of-type {\n",
              "        vertical-align: middle;\n",
              "    }\n",
              "\n",
              "    .dataframe tbody tr th {\n",
              "        vertical-align: top;\n",
              "    }\n",
              "\n",
              "    .dataframe thead th {\n",
              "        text-align: right;\n",
              "    }\n",
              "</style>\n",
              "<table border=\"1\" class=\"dataframe\">\n",
              "  <thead>\n",
              "    <tr style=\"text-align: right;\">\n",
              "      <th></th>\n",
              "      <th>comment</th>\n",
              "      <th>toxic</th>\n",
              "    </tr>\n",
              "  </thead>\n",
              "  <tbody>\n",
              "    <tr>\n",
              "      <th>0</th>\n",
              "      <td>Верблюдов-то за что? Дебилы, бл...\\n</td>\n",
              "      <td>1.0</td>\n",
              "    </tr>\n",
              "    <tr>\n",
              "      <th>1</th>\n",
              "      <td>Хохлы, это отдушина затюканого россиянина, мол...</td>\n",
              "      <td>1.0</td>\n",
              "    </tr>\n",
              "    <tr>\n",
              "      <th>2</th>\n",
              "      <td>Собаке - собачья смерть\\n</td>\n",
              "      <td>1.0</td>\n",
              "    </tr>\n",
              "    <tr>\n",
              "      <th>3</th>\n",
              "      <td>Страницу обнови, дебил. Это тоже не оскорблени...</td>\n",
              "      <td>1.0</td>\n",
              "    </tr>\n",
              "    <tr>\n",
              "      <th>4</th>\n",
              "      <td>тебя не убедил 6-страничный пдф в том, что Скр...</td>\n",
              "      <td>1.0</td>\n",
              "    </tr>\n",
              "  </tbody>\n",
              "</table>\n",
              "</div>"
            ],
            "text/plain": [
              "                                             comment  toxic\n",
              "0               Верблюдов-то за что? Дебилы, бл...\\n    1.0\n",
              "1  Хохлы, это отдушина затюканого россиянина, мол...    1.0\n",
              "2                          Собаке - собачья смерть\\n    1.0\n",
              "3  Страницу обнови, дебил. Это тоже не оскорблени...    1.0\n",
              "4  тебя не убедил 6-страничный пдф в том, что Скр...    1.0"
            ]
          },
          "metadata": {
            "tags": []
          },
          "execution_count": 36
        }
      ]
    },
    {
      "cell_type": "code",
      "metadata": {
        "colab": {
          "base_uri": "https://localhost:8080/"
        },
        "id": "wGazmWUCafVs",
        "outputId": "5c979f60-4c36-4d41-c9cf-f16021ca2622"
      },
      "source": [
        "from sklearn.feature_extraction.text import CountVectorizer\r\n",
        "from sklearn.linear_model import LogisticRegression\r\n",
        "from sklearn.metrics import classification_report\r\n",
        "\r\n",
        "import nltk\r\n",
        "nltk.download(\"stopwords\")\r\n",
        "\r\n",
        "from nltk.corpus import stopwords\r\n",
        "_stopwords = stopwords.words(\"russian\")"
      ],
      "execution_count": 119,
      "outputs": [
        {
          "output_type": "stream",
          "text": [
            "[nltk_data] Downloading package stopwords to /root/nltk_data...\n",
            "[nltk_data]   Package stopwords is already up-to-date!\n"
          ],
          "name": "stdout"
        }
      ]
    },
    {
      "cell_type": "code",
      "metadata": {
        "id": "41eebZscaJBO"
      },
      "source": [
        "vect_count = CountVectorizer(ngram_range=(1,2), max_df=0.85, min_df=2,\r\n",
        "                             stop_words=_stopwords, analyzer='char_wb')\r\n",
        "X_train, X_test, y_train, y_test = train_test_split(df.comment, df.toxic, test_size=0.1, shuffle=True, random_state=23)\r\n",
        "X_train = vect_count.fit_transform(X_train)\r\n",
        "X_test = vect_count.transform(X_test)"
      ],
      "execution_count": 127,
      "outputs": []
    },
    {
      "cell_type": "code",
      "metadata": {
        "colab": {
          "base_uri": "https://localhost:8080/"
        },
        "id": "uwP_FcBva6Z0",
        "outputId": "53ef41f4-2063-46a5-80a7-0e69021ae537"
      },
      "source": [
        "X_train.shape, X_test.shape, y_train.shape, y_test.shape"
      ],
      "execution_count": 128,
      "outputs": [
        {
          "output_type": "execute_result",
          "data": {
            "text/plain": [
              "((12970, 2475), (1442, 2475), (12970,), (1442,))"
            ]
          },
          "metadata": {
            "tags": []
          },
          "execution_count": 128
        }
      ]
    },
    {
      "cell_type": "code",
      "metadata": {
        "colab": {
          "base_uri": "https://localhost:8080/"
        },
        "id": "bP5qhVb5a8ky",
        "outputId": "5eac4da0-0e17-4144-fe98-8d881fd5beab"
      },
      "source": [
        "clf_lr = LogisticRegression(C=0.01, class_weight='balanced', max_iter=1000)\r\n",
        "clf_lr.fit(X_train, y_train)\r\n",
        "\r\n",
        "preds = clf_lr.predict(X_test)\r\n",
        "print(classification_report(y_test, preds))"
      ],
      "execution_count": 129,
      "outputs": [
        {
          "output_type": "stream",
          "text": [
            "              precision    recall  f1-score   support\n",
            "\n",
            "         0.0       0.89      0.81      0.85       931\n",
            "         1.0       0.71      0.83      0.76       511\n",
            "\n",
            "    accuracy                           0.82      1442\n",
            "   macro avg       0.80      0.82      0.81      1442\n",
            "weighted avg       0.83      0.82      0.82      1442\n",
            "\n"
          ],
          "name": "stdout"
        }
      ]
    },
    {
      "cell_type": "markdown",
      "metadata": {
        "id": "CdmEpYb0eEtZ"
      },
      "source": [
        "## Второй классификатор (TfIdf-Vectorizer)"
      ]
    },
    {
      "cell_type": "code",
      "metadata": {
        "id": "FqUJJGlEeH9p"
      },
      "source": [
        "from sklearn.feature_extraction.text import TfidfVectorizer\r\n",
        "from sklearn.neighbors import KNeighborsClassifier\r\n",
        "\r\n",
        "vect_tfidf = TfidfVectorizer(ngram_range=(1,2), max_df=0.7, min_df=2,\r\n",
        "                             stop_words=_stopwords, analyzer='word',\r\n",
        "                             norm='l1')\r\n",
        "X_train, X_test, y_train, y_test = train_test_split(df.comment, df.toxic, test_size=0.1, shuffle=True, random_state=123)\r\n",
        "X_train = vect_tfidf.fit_transform(X_train)\r\n",
        "X_test = vect_tfidf.transform(X_test)"
      ],
      "execution_count": 125,
      "outputs": []
    },
    {
      "cell_type": "code",
      "metadata": {
        "colab": {
          "base_uri": "https://localhost:8080/"
        },
        "id": "dWn1q9uwevNb",
        "outputId": "d1461075-9b85-48f6-9222-71e33ab0d1a5"
      },
      "source": [
        "clf_knn = KNeighborsClassifier(n_neighbors=8, \r\n",
        "                           weights='distance',\r\n",
        "                           metric='cosine')\r\n",
        "clf_knn.fit(X_train, y_train)\r\n",
        "preds = clf_knn.predict(X_test)\r\n",
        "\r\n",
        "print(classification_report(y_test, preds))"
      ],
      "execution_count": 126,
      "outputs": [
        {
          "output_type": "stream",
          "text": [
            "              precision    recall  f1-score   support\n",
            "\n",
            "         0.0       0.84      0.89      0.86       897\n",
            "         1.0       0.79      0.72      0.76       545\n",
            "\n",
            "    accuracy                           0.82      1442\n",
            "   macro avg       0.82      0.80      0.81      1442\n",
            "weighted avg       0.82      0.82      0.82      1442\n",
            "\n"
          ],
          "name": "stdout"
        }
      ]
    },
    {
      "cell_type": "code",
      "metadata": {
        "id": "lGDjQzIRgvll"
      },
      "source": [
        "#  Предскажите токсичность для текстов из 2ch_corpus.txt (второй семинар) и найдите 10 самых токсичных для каждого из классификаторов. \r\n",
        "# Сравните получаемые тексты - какие тексты совпадают, какие отличаются, правда ли тексты токсичные? \r\n",
        "# *Можете предсказывать не все данные, но не менее 2500."
      ],
      "execution_count": null,
      "outputs": []
    },
    {
      "cell_type": "code",
      "metadata": {
        "colab": {
          "base_uri": "https://localhost:8080/"
        },
        "id": "OFfb0Bi-hxlN",
        "outputId": "0f92efb9-c50d-473f-ce1c-0fd9a2b55255"
      },
      "source": [
        "!unzip 2ch_corpus.txt.zip  -d data"
      ],
      "execution_count": 133,
      "outputs": [
        {
          "output_type": "stream",
          "text": [
            "Archive:  2ch_corpus.txt.zip\n",
            "  inflating: data/2ch_corpus.txt     \n",
            "  inflating: data/__MACOSX/._2ch_corpus.txt  \n"
          ],
          "name": "stdout"
        }
      ]
    },
    {
      "cell_type": "code",
      "metadata": {
        "colab": {
          "base_uri": "https://localhost:8080/"
        },
        "id": "GZ3OAZQIg_KR",
        "outputId": "65200a9e-2e2b-4617-dc41-b3f8111cc1b7"
      },
      "source": [
        "with open('data/2ch_corpus.txt', encoding='utf-8') as f:\r\n",
        "    texts = f.readlines()[0:2500]\r\n",
        "\r\n",
        "texts[:5]"
      ],
      "execution_count": 135,
      "outputs": [
        {
          "output_type": "execute_result",
          "data": {
            "text/plain": [
              "[\" Анимублядский WebM-треддля приличных анимублядей и прочих аутистов. Безграмотное быдло с дубляжом, войсовером, порнографией и котиками, советы мерзких мокрописечников, вниманиебляди всех видов и прочее непотребство отправляется в порнотред <ссылка>.Для поиска сoуса видео сохраняем кадр (правый клик по видео) и ищем его на Для воспроизведения WebM с 10-битным цветом нужно установить плагин vlc ( ) и отключить встроенный в браузер плеер (media. webm. enabled=false в firefox).О кодировании WebMДоступные кодеки — VP8 и VP9 для видео, Vorbis и Opus для звука, максимальный размер файла — 10240КБ, всех файлов в посте — около 40МБ. Делать WebM можно научиться в вики треда: Там находится подробная информация о выборе и настройке кодеков на примерах использования консольных утилит ffmpeg, vpxenc и mkvmerge. Неочевидные моменты— libvorbis при указании битрейта (-b:a) работает в режиме CBR (постоянный битрейт), и это портит качество звука; для режима VBR вместо битрейта надо указывать качество (-q:a); параметр -vbr on работает только для Opus'а;— в webm'ки не нужно включать софтсаб в формате webvtt (FFmpeg это делает по умолчанию при наличии сабов в контейнере, отключается параметром -sn): во-первых, это бесполезно (для его отображения на странице должен быть специальный код), а во-вторых, от этого ролики не воспроизводятся в firefox. Программы и их документация Фронтенды к ffmpeg для кодирования вебмокCLI, бидон: zsh: дотнет: дотнет: Оп-паста: \\n\",\n",
              " '     Посоны, поделитесь ссылкой на ютуб-версию этого шебм.\\n',\n",
              " ' Побольше тебе стандопавера, бро.\\n',\n",
              " ' Перекатился. Благословил.\\n',\n",
              " ' У меня нофап- мне туда даже заходить нельзя\\n']"
            ]
          },
          "metadata": {
            "tags": []
          },
          "execution_count": 135
        }
      ]
    },
    {
      "cell_type": "code",
      "metadata": {
        "id": "lCUrt7jwipmY"
      },
      "source": [
        "def analyze_dvach(vectorizer, model, texts):\r\n",
        "\r\n",
        "    X = vectorizer.transform(texts)\r\n",
        "\r\n",
        "    preds = model.predict(X)\r\n",
        "    pred_probs = model.predict_proba(X)\r\n",
        "\r\n",
        "    top10_toxic = pred_probs[:,1].argsort()[::-1][:10]\r\n",
        "    top10_toxic_probs = pred_probs[top10_toxic, 1]\r\n",
        "    return top10_toxic, top10_toxic_probs"
      ],
      "execution_count": 172,
      "outputs": []
    },
    {
      "cell_type": "code",
      "metadata": {
        "id": "v2ZKLFEbiZQq"
      },
      "source": [
        "# Первый классификатор\r\n",
        "top10_lr_count, probs = analyze_dvach(vect_count, clf_lr, texts)\r\n",
        "top10_knn_tfidf, _probs = analyze_dvach(vect_tfidf, clf_knn, texts)"
      ],
      "execution_count": 173,
      "outputs": []
    },
    {
      "cell_type": "code",
      "metadata": {
        "colab": {
          "base_uri": "https://localhost:8080/"
        },
        "id": "fTy8TUQZjs4B",
        "outputId": "a8e85384-66ff-41d8-f6fb-83179fb4c4f7"
      },
      "source": [
        "common = set(top10_lr_count) & set(top10_knn_tfidf)\r\n",
        "print(common)"
      ],
      "execution_count": 162,
      "outputs": [
        {
          "output_type": "stream",
          "text": [
            "set()\n"
          ],
          "name": "stdout"
        }
      ]
    },
    {
      "cell_type": "markdown",
      "metadata": {
        "id": "GZtAgmQdm7yB"
      },
      "source": [
        "Общих текстов не нашлось, посмотрим на топ каждой модели в отдельности"
      ]
    },
    {
      "cell_type": "code",
      "metadata": {
        "colab": {
          "base_uri": "https://localhost:8080/"
        },
        "id": "p0rQLAz5m3c2",
        "outputId": "1ae705b8-24ac-4b29-948a-0e11a00838df"
      },
      "source": [
        "for _id, prob in zip(top10_lr_count, probs):\r\n",
        "    print(prob)\r\n",
        "    print(texts[_id])\r\n",
        "    print('=========================')"
      ],
      "execution_count": 174,
      "outputs": [
        {
          "output_type": "stream",
          "text": [
            "1.0\n",
            "  ВИЧУУУУУУУУУУУУУУУУУУУУУУУУУУУУУУУУУУУУУУУУУУУУУУУУУУУУУУУУУУУУУУУУУУУУУУУУУУУУУУУУЧУУУУУУУУУУУУУУУУУУУУУУУУУУУУУУУУУУУУУУУУУУУУУУУУУУУУУУУУУУУУУУУУУУУУУУУУУУУУУУУУЧУУУУУУУУУУУУУУУУУУУУУУУУУУУУУУУУУУУУУУУУУУУУУУУУУУУУУУУУУУУУУУУУУУУУУУУУУУУУУУУУЧУУУУУУУУУУУУУУУУУУУУУУУУУУУУУУУУУУУУУУУУУУУУУУУУУУУУУУУУУУУУУУУУУУУУУУУУУУУУУУУУХА БЛЯЯЯЯЯЯЯЯ\n",
            "\n",
            "=========================\n",
            "0.9999996687680612\n",
            " Ёбаные советские названия блять. КРУЖКИ блять. Всегда ненавидел. Блять. Почему бы не сказать КЛУБ ПО ИНТЕРЕСАМ, как у япошек, нет блять, будем гуманитарную хуйню, сравнения блять, типа В КРУГ СОБРАЛИСЬ, ахахахаха кружок ахахахахаха))))) пиздец блять. Может при Сталине это звучало, но уже при Горбачёве это просто бесило, а сейчас это выглядит вообще как атавизм. Или ещё ебанутое слово СЛЁТ блять. Сука, СЛЁТ, почему слёт, а не съезд? Типа съезд - это для КПСС, не доросли ещё? Или типа в Совке так всё пиздато, что даже у школия есть своё самолёт? СЛЁТ сука, мы что, блять, стрижи? Или это какая-то аллегория на ёбаных ОРЛЯТ? Вот тоже заебучее сравнение, всегда бесило, ОРЯЛА УЧАТСЯ ЛЕТАТЬ, блять, да мне похуй на каких-то куриц, орлят, блять, голубей, петухов, учатся они летать блять, а страусы вон не учатся, мне-то что до ваших сраных ОРЛЯТ, пел всегда КОЛЗЛЯТ, да-да, школие, этот прикол существовал ещё до Задорнова и прочих клованов - в совковых песнях заменять \"орёл\" на \"козёл\". Ну до чего же сука поганая страна была, хорошо, что развалилась нахуй!\n",
            "\n",
            "=========================\n",
            "0.9999283097215945\n",
            " >удел школоты>говорит это 32-лвл куну, познавшему дзен Молодой человек, если ты слушаешь музыку, ориентируясь исключительно на \"допустимый для прослушивания\" возраст/статус, то у меня для тебя никаких новостей, лол, ты проёбан. Музыку надо любить. А денег на яхту у меня уже есть, просто на маленькую, да только нахуй в ДС яхта-то? Дозаведу трактор - можно озаботиться. Это ж не приоритетная потребность. К слову, спокойную музыку я тоже люблю. Но не будешь же ты ебошить с яхты Свиридова или там я не знаю, Fourplay. Это не яхтная музыка, лол. А экстремальный металл, в свою очередь, - не напряг. Для меня, к примеру, тот же Decapitated - вообще идеальный чиллаут: хорошо записан, не слишком заумен, чтобы вслушиваться вот прямо, хорошая полиритмия, которая мне очень доставляет, эмоции, блять, подача.\n",
            "\n",
            "=========================\n",
            "0.9995824221116199\n",
            " Вместо того, что бы радоваться тому, что человек в 50 лет может веселиться, трахать молодых тян, зарабатывать бабло, двачер тупо разрывает сам себе жопу. А потом жалуется, что 25 лет это уже старость и все проебано. Да вы ж дебилы нахуй. Вот вам реальный пример человека, который смог. Он разорвал ваш манямир. Да вот проблема в том, что вам уютно в этом манямире. Вы хотите быть унылыми нищебродами с нестоящей писькой, вы хотите страдать, вы хотите жить в говне. Но вы в этом никогда не признаетесь. Продолжайте батхердить.\n",
            "\n",
            "=========================\n",
            "0.999534132186099\n",
            " >доказывать свой социальный статус телом без татух Я аж ахуел. Значит если я не бью тату - я что-то доказываю? Мужик молодец конечно, но в начале треда какой-то вялый жир. Горело всегда не из-за денег, а из-за тупости и желания засветится, похвастаться хуергой, псевдотяжелым путем к успеху. Как у практически всех наших звезд первой величины. Нахуя если ты успешный и все об этом знают, сраными портаками себя покрывать и постить хуету в социалочках? Вот как раз пизду Барановскую вспоминал сегодня, ну отпилила кусок от Андрейки нахаляву, нет надо еще карусель с токшоу устроить о том, какая талантливая ведущая и журналистка обиженная жизнью и пришедшая ко всему сама. Счастлив и счастлив, а это какая-то тупопёздность. Что собственно здесь и цитируют:>в жизни каждого человека наступает тот момент, когда нужно решить, «оказаться испачканным внутри или снаружи», и сам он выбрал внутреннюю чистоту Пойду говном измажусь, момент настал похоже.\n",
            "\n",
            "=========================\n",
            "0.999423693683787\n",
            " > коррупцию буквально на каждом шагу На каком шагу коррупция дибил? Не дают людей похищать и мелкие кражи совершать? КОРРУПЦИЯ! КО-КО-КО-КО! Удаленка через ИП на пиндосов приносит 8к баксов в месяц. 520к рублей. Минус 6% налогов. ГДЕ ТУТ КОРРУПЦИЯ! У ТЕБЯ В ГОЛОВЕ КОРРУПЦИЯ! ТЕБЕ САМОМУ ВЫГОДНО ЧТОБЫ В РАШКЕ БЫЛО ХУЁВО! ЕСТЬ КОГО ВИНИТЬ!\n",
            "\n",
            "=========================\n",
            "0.9989771121078802\n",
            " В каком там классе учили уравнения составлять? шахматисты + танцоры + шахматисты_танцоры = 56шахматисты + шахматисты_танцоры = 28танцоры + шахматисты_танцоры = 48танцоры - 28шахматисты_танцоры - 20шахматисты - 8\n",
            "\n",
            "=========================\n",
            "0.9988399206421816\n",
            " А теперь почитайте что пишут всякие пезды и охуейте такой секси мм Пиздец. Какая-то марамойка в своих мечтах представляет что он увидит её камент, бросит свою пизду, заберет шлюху из Рахи и будет пялить. А она ему борщи и личиноккоторых он ненавидит будет рожать.\n",
            "\n",
            "=========================\n",
            "0.9987822489502831\n",
            " Не ты ли в мотаче про трек-сессии рассказывал?Ну и потом, как бы то ни было, нахуй тебе всралась жена, которой на тебя похуй. Ей на тебя похуй, понимаешь?\n",
            "\n",
            "=========================\n",
            "0.9985175904027299\n",
            "  ммм, из разряда \" у тебя так бомбит потому что ты не хохол\" где связь между мясными хохлами которых пиздят и евровидением? Я эту хуйню никогда не смотрел и вообще похуй на нее\n",
            "\n",
            "=========================\n"
          ],
          "name": "stdout"
        }
      ]
    },
    {
      "cell_type": "code",
      "metadata": {
        "colab": {
          "base_uri": "https://localhost:8080/"
        },
        "id": "6dy7oCP6nRUX",
        "outputId": "d886c84b-20ba-4778-8812-528b793aa023"
      },
      "source": [
        "for _id, prob in zip(top10_knn_tfidf, _probs):\r\n",
        "    print(prob)\r\n",
        "    print(texts[_id])\r\n",
        "    print('=========================')"
      ],
      "execution_count": 175,
      "outputs": [
        {
          "output_type": "stream",
          "text": [
            "1.0\n",
            " Сказать сходу \"иди нахуй со своими загадками, петушня\"\n",
            "\n",
            "=========================\n",
            "1.0\n",
            " Ты и собаке отсосал бы\n",
            "\n",
            "=========================\n",
            "1.0\n",
            " >Scala, Clojure, Erlang, Elixir, Common Lisp, Haskell, Ocaml, F#, Elm, Swift, Go, Rust, D, Nim, Scheme, SmalltalkМолодец, перечислил сложные для старта языки + на которых вакансий хуй хуй да нихуя. Сам-то с какого языка начинал? И наверное в гарварде и mit дауны сидят и учат людей сям и питону, сука на дваче, что не доска, так куча нитаких, как все даунов на хайпе, которые толкают свое говно. Нахуй иди.\n",
            "\n",
            "=========================\n",
            "1.0\n",
            " И здесь жопу порвешь.\n",
            "\n",
            "=========================\n",
            "1.0\n",
            " Тьфу на тебя, бвдло ебучее.\n",
            "\n",
            "=========================\n",
            "1.0\n",
            " Почему проебывал рус. яз?\n",
            "\n",
            "=========================\n",
            "1.0\n",
            "  Не, он мерзкий. Да и я больше по тянам.\n",
            "\n",
            "=========================\n",
            "1.0\n",
            " ДРОПАЕШЬ ШЛЮХУ@ЖИВЕШЬ СВОБОДНООхуел он бля как такие тупые дибылы до денег дорываются? Женится на мрази пиздец просто.\n",
            "\n",
            "=========================\n",
            "1.0\n",
            " ебать он по каифу жиганит\n",
            "\n",
            "=========================\n",
            "1.0\n",
            " А мне можно? Я очень робкий и нежный...\n",
            "\n",
            "=========================\n"
          ],
          "name": "stdout"
        }
      ]
    },
    {
      "cell_type": "markdown",
      "metadata": {
        "id": "p3T6CitZo4Ef"
      },
      "source": [
        "Ну что тут сказать: вторая модель явно выделяет более токсичные комментарии  и более емкие, а первая модель больше тяготеет к длинным развернутым изложениям. Только не понятно, почему вторая модель отнесла коммент \"А мне можно? Я очень робкий и нежный...\" к токсичным, да еще и с такой большой вероятностью."
      ]
    }
  ]
}